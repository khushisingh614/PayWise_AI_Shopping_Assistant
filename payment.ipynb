{
 "cells": [
  {
   "cell_type": "code",
   "execution_count": 1,
   "metadata": {},
   "outputs": [],
   "source": [
    "import pandas as pd\n",
    "from sklearn.model_selection import train_test_split\n",
    "from sklearn.preprocessing import LabelEncoder\n",
    "from sklearn.ensemble import RandomForestClassifier\n",
    "from sklearn.metrics import accuracy_score"
   ]
  },
  {
   "cell_type": "code",
   "execution_count": 2,
   "metadata": {},
   "outputs": [
    {
     "name": "stdout",
     "output_type": "stream",
     "text": [
      "   PriceofProduct ProductCategory  DiscountApplied  TotalAmountPaid  \\\n",
      "0       99.064182        Clothing        10.322919        88.741263   \n",
      "1      102.514036           Books        13.771905        88.742131   \n",
      "2       91.407076           Books         2.664887        88.742189   \n",
      "3       92.225644      Home Decor         3.482948        88.742696   \n",
      "4       96.233504     Electronics         7.490483        88.743021   \n",
      "\n",
      "  PaymentMethod  \n",
      "0    Debit Card  \n",
      "1    Debit Card  \n",
      "2   Credit Card  \n",
      "3        PayPal  \n",
      "4    Debit Card  \n"
     ]
    }
   ],
   "source": [
    "file_path = 'Transaction_Dataset.csv'\n",
    "df = pd.read_csv(file_path)\n",
    "print(df.head())"
   ]
  },
  {
   "cell_type": "code",
   "execution_count": 3,
   "metadata": {},
   "outputs": [],
   "source": [
    "le_category = LabelEncoder()\n",
    "df['ProductCategory'] = le_category.fit_transform(df['ProductCategory'])\n",
    "\n",
    "le_payment = LabelEncoder()\n",
    "df['PaymentMethod'] = le_payment.fit_transform(df['PaymentMethod'])\n"
   ]
  },
  {
   "cell_type": "code",
   "execution_count": 9,
   "metadata": {},
   "outputs": [],
   "source": [
    "# Split data into features and target\n",
    "X = df.drop('PaymentMethod', axis=1)\n",
    "y = df['PaymentMethod']\n",
    "# Split data into training and testing sets\n",
    "X_train, X_test, y_train, y_test = train_test_split(X, y, test_size=0.2, random_state=42)\n",
    "\n",
    "# Initialize and train the model\n",
    "model = RandomForestClassifier()\n",
    "model.fit(X_train, y_train)\n",
    "\n",
    "# Make predictions\n",
    "y_pred = model.predict(X_test)\n"
   ]
  },
  {
   "cell_type": "code",
   "execution_count": 8,
   "metadata": {},
   "outputs": [
    {
     "name": "stdout",
     "output_type": "stream",
     "text": [
      "Predicted Payment Method: Cash\n"
     ]
    }
   ],
   "source": [
    "# Example prediction\n",
    "new_data = pd.DataFrame({\n",
    "    'PriceofProduct': [120],\n",
    "    'ProductCategory': le_category.transform(['Electronics']),\n",
    "    'DiscountApplied': [10],\n",
    "    'TotalAmountPaid': [110]\n",
    "})\n",
    "predicted_payment_method = model.predict(new_data)\n",
    "print(f\"Predicted Payment Method: {le_payment.inverse_transform(predicted_payment_method)[0]}\")"
   ]
  }
 ],
 "metadata": {
  "kernelspec": {
   "display_name": "Python 3",
   "language": "python",
   "name": "python3"
  },
  "language_info": {
   "codemirror_mode": {
    "name": "ipython",
    "version": 3
   },
   "file_extension": ".py",
   "mimetype": "text/x-python",
   "name": "python",
   "nbconvert_exporter": "python",
   "pygments_lexer": "ipython3",
   "version": "3.10.9"
  }
 },
 "nbformat": 4,
 "nbformat_minor": 2
}
